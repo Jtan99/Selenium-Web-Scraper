{
 "cells": [
  {
   "cell_type": "code",
   "execution_count": 1,
   "metadata": {},
   "outputs": [],
   "source": [
    "import pandas as pd\n",
    "import numpy as np\n",
    "import pycountry\n",
    "import dateutil.parser as dparser"
   ]
  },
  {
   "cell_type": "code",
   "execution_count": 2,
   "metadata": {},
   "outputs": [],
   "source": [
    "df = pd.read_csv(\"./data/reviews.csv\")\n",
    "df[\"rating\"] = df[\"rating\"].str.extract(r'(\\d+.\\d+)')\n",
    "df[\"rating\"] = pd.to_numeric(df[\"rating\"], errors='coerce')\n",
    "\n",
    "df[\"helpful\"] = df[\"helpful\"].str.replace(\",\", \"\")\n",
    "df[\"helpful\"] = df[\"helpful\"].str.split(\" \", expand=True)[0]\n",
    "df.loc[(df.helpful == 'One'),'helpful'] = '1'\n",
    "df[\"helpful\"] = pd.to_numeric(df[\"helpful\"], errors='coerce', downcast='integer')"
   ]
  },
  {
   "cell_type": "code",
   "execution_count": 3,
   "metadata": {},
   "outputs": [],
   "source": [
    "def get_country(text):\n",
    "  for country in pycountry.countries:\n",
    "    if country.name in text:\n",
    "      return country.name\n",
    "\n",
    "df[['country', 'date']] = df[\"date_location\"].str.split(\" on \", expand=True)\n",
    "df[\"country\"] = df[\"date_location\"].apply(lambda x: get_country(x))\n",
    "df = df.drop([\"date_location\"],axis = 1)"
   ]
  },
  {
   "cell_type": "code",
   "execution_count": 4,
   "metadata": {},
   "outputs": [],
   "source": [
    "verifiedDictionary = {'Verified Purchase': True, 'non-verified': False}\n",
    "df[\"verified\"] = df[\"verified\"].replace(verifiedDictionary)"
   ]
  },
  {
   "cell_type": "code",
   "execution_count": 5,
   "metadata": {},
   "outputs": [],
   "source": [
    "df['date'] = pd.to_datetime(df['date'])"
   ]
  },
  {
   "cell_type": "code",
   "execution_count": 6,
   "metadata": {},
   "outputs": [],
   "source": [
    "df.to_csv(\"./data/cleaned_reviews.csv\", index=False, date_format=\"%Y-%m-%d\")"
   ]
  }
 ],
 "metadata": {
  "kernelspec": {
   "display_name": "Python 3.9.5 64-bit",
   "language": "python",
   "name": "python3"
  },
  "language_info": {
   "codemirror_mode": {
    "name": "ipython",
    "version": 3
   },
   "file_extension": ".py",
   "mimetype": "text/x-python",
   "name": "python",
   "nbconvert_exporter": "python",
   "pygments_lexer": "ipython3",
   "version": "3.9.5"
  },
  "orig_nbformat": 4,
  "vscode": {
   "interpreter": {
    "hash": "cfb90b17e36a2dd8a24b61c45d48ae4f7994786211498ddb44cc6e15851bffc2"
   }
  }
 },
 "nbformat": 4,
 "nbformat_minor": 2
}
